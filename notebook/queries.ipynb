{
 "metadata": {
  "language_info": {
   "codemirror_mode": {
    "name": "ipython",
    "version": 3
   },
   "file_extension": ".py",
   "mimetype": "text/x-python",
   "name": "python",
   "nbconvert_exporter": "python",
   "pygments_lexer": "ipython3",
   "version": "3.9.2"
  },
  "orig_nbformat": 2,
  "kernelspec": {
   "name": "python3",
   "display_name": "Python 3",
   "language": "python"
  }
 },
 "nbformat": 4,
 "nbformat_minor": 2,
 "cells": [
  {
   "cell_type": "code",
   "execution_count": 67,
   "metadata": {},
   "outputs": [],
   "source": [
    "from lithops import Storage,storage\n",
    "from vaderSentiment.vaderSentiment import SentimentIntensityAnalyzer\n",
    "import json\n",
    "import io\n",
    "import lithops\n",
    "from ast import literal_eval\n",
    "import numpy as np\n",
    "import pandas as pd\n",
    "import matplotlib.pyplot as plt\n",
    "from geopy.geocoders import Nominatim\n",
    "from mpl_toolkits.basemap import Basemap"
   ]
  },
  {
   "cell_type": "code",
   "execution_count": null,
   "metadata": {},
   "outputs": [],
   "source": [
    "stg = Storage()\n",
    "jlist = []\n",
    "geolocator = Nominatim(user_agent=\"SD\")\n",
    "\n",
    "try:\n",
    "    data = stg.get_object('analysis.data', 'processeddata/sentiments.csv').decode()\n",
    "    '''location = geolocator.geocode(data[\"location\"])\n",
    "    if(location != None):\n",
    "        data[\"latitude\"] = location.latitude\n",
    "        data[\"longitude\"] = location.longitude\n",
    "    else:\n",
    "        data[\"latitude\"] = 0\n",
    "        data[\"longitude\"] = 0'''\n",
    "    jlist.append(data)\n",
    "except storage.utils.StorageNoSuchKeyError:\n",
    "    print(str(i))"
   ]
  },
  {
   "cell_type": "code",
   "execution_count": 82,
   "metadata": {},
   "outputs": [
    {
     "output_type": "stream",
     "name": "stdout",
     "text": [
      "                     Id        Date  Retweet                   Location  \\\n0   1220910820378337280  2020-01-25        1               Vegas Strong   \n1   1221750876538396672  2020-01-27        1            Warszawa Polska   \n2   1221831050961145859  2020-01-27        1              hiroshima JPN   \n3   1221836638084456448  2020-01-27        1                        NaN   \n4   1221839402164293632  2020-01-27        1              United States   \n5   1221842315980894211  2020-01-27        1                  Indonesia   \n6   1221845317643067395  2020-01-27        1                   Miami FL   \n7   1221853708088115200  2020-01-27        1                   Winnipeg   \n8   1221856844651646979  2020-01-27        1               CT NY ✈️ ECU   \n9   1221860115151826951  2020-01-27        0                     London   \n10  1221863541239476226  2020-01-27        1    Makati City Philippines   \n11  1221874642320809984  2020-01-27        1                        NaN   \n12  1221886527094980608  2020-01-27        1                  Hong Kong   \n13  1221886527094980608  2020-01-27        1                  Hong Kong   \n14  1221890803183816704  2020-01-27        1     London United Kingdom    \n15  1221904123139960834  2020-01-27        1  TX bred & fed ☛ No Limits   \n16  1221908096777433088  2020-01-27        1                Buffalo͵ NY   \n17  1221911963464159232  2020-01-27        0            Phoenix Arizona   \n18  1221916055091793920  2020-01-27        1                        USA   \n19  1221920270119624704  2020-01-27        1                        NaN   \n\n    Sentiment  \n0      0.4939  \n1      0.0000  \n2      0.3182  \n3     -0.5994  \n4      0.0000  \n5      0.0000  \n6      0.4767  \n7      0.0000  \n8      0.0000  \n9     -0.3818  \n10     0.0000  \n11     0.4215  \n12    -0.9523  \n13    -0.9523  \n14    -0.8074  \n15     0.0000  \n16    -0.8807  \n17    -0.7783  \n18     0.0000  \n19    -0.2960  \n"
     ]
    }
   ],
   "source": [
    "stg = Storage()\n",
    "data = stg.get_object('analysis.data', 'processeddata/sentiments.csv').decode()\n",
    "data = io.StringIO(data)\n",
    "df = pd.read_csv(data, sep=\",\")\n",
    "print(df)"
   ]
  },
  {
   "cell_type": "code",
   "execution_count": null,
   "metadata": {},
   "outputs": [],
   "source": []
  }
 ]
}